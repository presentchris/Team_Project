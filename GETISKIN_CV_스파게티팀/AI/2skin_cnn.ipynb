{
 "cells": [
  {
   "cell_type": "code",
   "execution_count": 1,
   "id": "d4aeb002",
   "metadata": {},
   "outputs": [],
   "source": [
    "import os\n",
    "import cv2\n",
    "import numpy as np\n",
    "from sklearn.model_selection import train_test_split\n",
    "from sklearn.preprocessing import LabelEncoder\n",
    "from tensorflow.keras.utils import to_categorical\n",
    "from tensorflow.keras.models import Sequential\n",
    "from tensorflow.keras.layers import Conv2D, MaxPooling2D, Flatten, Dense, Dropout\n",
    "\n",
    "# 데이터 경로 설정\n",
    "base_path = 'resized_skindata'  # 경로를 실제 Google Drive에 있는 skindata 폴더 경로로 변경하세요.\n",
    "\n",
    "# 얼굴 부위 및 피부 상태 설정\n",
    "face_parts = ['forehead', 'nose', 'cheek']\n",
    "skin_states = ['dry', 'oily']\n",
    "\n",
    "# 데이터 불러오기\n",
    "data = []\n",
    "labels = []\n",
    "\n",
    "for part in face_parts:\n",
    "    for state in skin_states:\n",
    "        folder_path = os.path.join(base_path, 'train', state, part)\n",
    "        for filename in os.listdir(folder_path):\n",
    "            img = cv2.imread(os.path.join(folder_path, filename))\n",
    "            img = cv2.cvtColor(img, cv2.COLOR_BGR2RGB)  # OpenCV는 BGR 형식이므로 RGB로 변환\n",
    "            img = cv2.resize(img, (128, 128))  # 이미지 크기 조절\n",
    "\n",
    "            data.append(img)\n",
    "            labels.append(f'{state}_{part}')\n",
    "\n",
    "# 데이터와 레이블을 numpy 배열로 변환\n",
    "data = np.array(data)\n",
    "labels = np.array(labels)\n",
    "\n",
    "# 레이블 인코딩\n",
    "label_encoder = LabelEncoder()\n",
    "encoded_labels = label_encoder.fit_transform(labels)\n",
    "encoded_labels = to_categorical(encoded_labels)\n",
    "\n",
    "# 데이터 분할 (8:2 비율)\n",
    "X_train, X_test, y_train, y_test = train_test_split(data, encoded_labels, test_size=0.2, random_state=42)\n"
   ]
  },
  {
   "cell_type": "code",
   "execution_count": 2,
   "id": "839cdfc3",
   "metadata": {},
   "outputs": [],
   "source": [
    "model = Sequential()\n",
    "model.add(Conv2D(32, (3, 3), activation='relu', input_shape=(128,128,3)))\n",
    "model.add(MaxPooling2D((2, 2)))\n",
    "model.add(Conv2D(64, (3, 3), activation='relu'))\n",
    "model.add(MaxPooling2D((2, 2)))\n",
    "model.add(Conv2D(128, (3, 3), activation='relu'))\n",
    "model.add(MaxPooling2D((2, 2)))\n",
    "model.add(Flatten())\n",
    "model.add(Dense(512, activation='relu'))\n",
    "model.add(Dropout(0.5))\n",
    "model.add(Dense(len(label_encoder.classes_), activation='softmax'))\n",
    "\n",
    "model.compile(optimizer='adam', loss='categorical_crossentropy', metrics=['accuracy'])\n"
   ]
  },
  {
   "cell_type": "code",
   "execution_count": null,
   "id": "8fcaa309",
   "metadata": {},
   "outputs": [
    {
     "name": "stdout",
     "output_type": "stream",
     "text": [
      "Epoch 1/10\n",
      "8/8 [==============================] - 33s 4s/step - loss: 198.6796 - accuracy: 0.1946 - val_loss: 4.8788 - val_accuracy: 0.2250\n",
      "Epoch 2/10\n",
      "8/8 [==============================] - 40s 5s/step - loss: 2.0690 - accuracy: 0.3389 - val_loss: 1.6370 - val_accuracy: 0.3083\n",
      "Epoch 3/10\n",
      "8/8 [==============================] - 30s 4s/step - loss: 1.4496 - accuracy: 0.4331 - val_loss: 3.5177 - val_accuracy: 0.2417\n",
      "Epoch 4/10\n",
      "8/8 [==============================] - 20s 2s/step - loss: 1.6290 - accuracy: 0.4728 - val_loss: 1.6238 - val_accuracy: 0.4000\n",
      "Epoch 5/10\n",
      "8/8 [==============================] - 19s 2s/step - loss: 1.1260 - accuracy: 0.5795 - val_loss: 1.6207 - val_accuracy: 0.3917\n",
      "Epoch 6/10\n",
      "8/8 [==============================] - 19s 2s/step - loss: 0.9985 - accuracy: 0.6172 - val_loss: 2.1274 - val_accuracy: 0.4250\n",
      "Epoch 7/10\n",
      "8/8 [==============================] - 20s 3s/step - loss: 0.9650 - accuracy: 0.6444 - val_loss: 3.6286 - val_accuracy: 0.2833\n",
      "Epoch 8/10\n",
      "3/8 [==========>...................] - ETA: 11s - loss: 1.3129 - accuracy: 0.6354"
     ]
    }
   ],
   "source": [
    "# 모델 학습\n",
    "model.fit(X_train, y_train, epochs=10, batch_size=64, validation_data=(X_test, y_test))"
   ]
  },
  {
   "cell_type": "code",
   "execution_count": null,
   "id": "a893b920",
   "metadata": {},
   "outputs": [],
   "source": [
    "# 모델 평가\n",
    "loss, accuracy = model.evaluate(X_test, y_test)\n",
    "print(f'Test Loss: {loss}, Test Accuracy: {accuracy}')\n",
    "\n",
    "# 테스트 데이터에 대한 예측\n",
    "predictions = model.predict(X_test)\n",
    "\n",
    "# 예측 결과 출력\n",
    "for i in range(5):  # 예측 결과 중에서 처음 5개만 출력\n",
    "    predicted_class = label_encoder.classes_[np.argmax(predictions[i])]\n",
    "    actual_class = label_encoder.classes_[np.argmax(y_test[i])]\n",
    "    print(f'Actual: {actual_class}, Predicted: {predicted_class}')\n"
   ]
  },
  {
   "cell_type": "code",
   "execution_count": null,
   "id": "247f6ebe",
   "metadata": {},
   "outputs": [],
   "source": []
  }
 ],
 "metadata": {
  "kernelspec": {
   "display_name": "Python 3",
   "language": "python",
   "name": "python3"
  },
  "language_info": {
   "codemirror_mode": {
    "name": "ipython",
    "version": 3
   },
   "file_extension": ".py",
   "mimetype": "text/x-python",
   "name": "python",
   "nbconvert_exporter": "python",
   "pygments_lexer": "ipython3",
   "version": "3.8.8"
  }
 },
 "nbformat": 4,
 "nbformat_minor": 5
}
