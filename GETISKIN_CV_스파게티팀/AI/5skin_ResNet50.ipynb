{
 "cells": [
  {
   "cell_type": "code",
   "execution_count": 1,
   "id": "0eae5d73",
   "metadata": {},
   "outputs": [],
   "source": [
    "import os\n",
    "import cv2\n",
    "import numpy as np\n",
    "from sklearn.model_selection import train_test_split\n",
    "from sklearn.preprocessing import LabelEncoder\n",
    "from tensorflow.keras.utils import to_categorical\n",
    "from tensorflow.keras.models import Sequential\n",
    "from tensorflow.keras.layers import Conv2D, MaxPooling2D, Flatten, Dense\n",
    "\n",
    "# 데이터 경로 설정\n",
    "base_path = 'resized_skindata'  # 경로를 실제 Google Drive에 있는 skindata 폴더 경로로 변경하세요.\n",
    "\n",
    "# 얼굴 부위 및 피부 상태 설정\n",
    "face_parts = ['forehead', 'nose', 'cheek']\n",
    "skin_states = ['dry', 'oily']\n",
    "\n",
    "# 데이터 불러오기\n",
    "data = []\n",
    "labels = []\n",
    "\n",
    "for part in face_parts:\n",
    "    for state in skin_states:\n",
    "        folder_path = os.path.join(base_path, 'train', state, part)\n",
    "        for filename in os.listdir(folder_path):\n",
    "            img = cv2.imread(os.path.join(folder_path, filename))\n",
    "            img = cv2.cvtColor(img, cv2.COLOR_BGR2RGB)  # OpenCV는 BGR 형식이므로 RGB로 변환\n",
    "            img = cv2.resize(img, (128, 128))  # 이미지 크기 조절\n",
    "\n",
    "            data.append(img)\n",
    "            labels.append(f'{state}_{part}')\n",
    "\n",
    "# 데이터와 레이블을 numpy 배열로 변환\n",
    "data = np.array(data)\n",
    "labels = np.array(labels)\n",
    "\n",
    "# 레이블 인코딩\n",
    "label_encoder = LabelEncoder()\n",
    "encoded_labels = label_encoder.fit_transform(labels)\n",
    "encoded_labels = to_categorical(encoded_labels)\n",
    "\n",
    "# 데이터 분할 (8:2 비율)\n",
    "X_train, X_test, y_train, y_test = train_test_split(data, encoded_labels, test_size=0.2, random_state=42)"
   ]
  },
  {
   "cell_type": "code",
   "execution_count": 2,
   "id": "278e36fc",
   "metadata": {},
   "outputs": [
    {
     "name": "stdout",
     "output_type": "stream",
     "text": [
      "Epoch 1/10\n",
      "15/15 [==============================] - 132s 9s/step - loss: 2.0518 - accuracy: 0.4331 - val_loss: 203.4134 - val_accuracy: 0.2417\n",
      "Epoch 2/10\n",
      "15/15 [==============================] - 116s 8s/step - loss: 1.3485 - accuracy: 0.5837 - val_loss: 5355.1045 - val_accuracy: 0.2417\n",
      "Epoch 3/10\n",
      "15/15 [==============================] - 108s 7s/step - loss: 0.7712 - accuracy: 0.7113 - val_loss: 8.8794 - val_accuracy: 0.2083\n",
      "Epoch 4/10\n",
      "15/15 [==============================] - 137s 9s/step - loss: 0.5792 - accuracy: 0.7845 - val_loss: 5.7056 - val_accuracy: 0.1917\n",
      "Epoch 5/10\n",
      "15/15 [==============================] - 118s 8s/step - loss: 0.4564 - accuracy: 0.8389 - val_loss: 4.1249 - val_accuracy: 0.3667\n",
      "Epoch 6/10\n",
      "15/15 [==============================] - 125s 8s/step - loss: 0.2953 - accuracy: 0.9059 - val_loss: 6.1194 - val_accuracy: 0.1917\n",
      "Epoch 7/10\n",
      "15/15 [==============================] - 117s 8s/step - loss: 0.3486 - accuracy: 0.8703 - val_loss: 3.5041 - val_accuracy: 0.2583\n",
      "Epoch 8/10\n",
      "15/15 [==============================] - 111s 7s/step - loss: 0.2174 - accuracy: 0.9205 - val_loss: 8.0895 - val_accuracy: 0.1417\n",
      "Epoch 9/10\n",
      "15/15 [==============================] - 100s 7s/step - loss: 0.2861 - accuracy: 0.9059 - val_loss: 1.7638 - val_accuracy: 0.5500\n",
      "Epoch 10/10\n",
      "15/15 [==============================] - 98s 7s/step - loss: 0.2023 - accuracy: 0.9351 - val_loss: 2.0586 - val_accuracy: 0.5250\n"
     ]
    },
    {
     "data": {
      "text/plain": [
       "<tensorflow.python.keras.callbacks.History at 0x2258bcb7c70>"
      ]
     },
     "execution_count": 2,
     "metadata": {},
     "output_type": "execute_result"
    }
   ],
   "source": [
    "from tensorflow.keras.applications import ResNet50\n",
    "from tensorflow.keras.models import Sequential\n",
    "from tensorflow.keras.layers import Dense, GlobalAveragePooling2D\n",
    "\n",
    "base_model = ResNet50(weights='imagenet', include_top=False, input_shape=(128, 128, 3))\n",
    "\n",
    "model = Sequential()\n",
    "model.add(base_model)\n",
    "model.add(GlobalAveragePooling2D())\n",
    "model.add(Dense(512, activation='relu'))\n",
    "model.add(Dense(len(label_encoder.classes_), activation='softmax'))\n",
    "\n",
    "model.compile(optimizer='adam', loss='categorical_crossentropy', metrics=['accuracy'])\n",
    "\n",
    "# 모델 학습\n",
    "model.fit(X_train, y_train, epochs=10, batch_size=32, validation_data=(X_test, y_test))"
   ]
  },
  {
   "cell_type": "code",
   "execution_count": 3,
   "id": "f50cecf2",
   "metadata": {},
   "outputs": [
    {
     "name": "stdout",
     "output_type": "stream",
     "text": [
      "4/4 [==============================] - 5s 1s/step - loss: 2.0586 - accuracy: 0.5250\n",
      "Test Loss: 2.0586066246032715, Test Accuracy: 0.5249999761581421\n",
      "Actual: oily_forehead, Predicted: dry_nose\n",
      "Actual: oily_nose, Predicted: oily_nose\n",
      "Actual: oily_cheek, Predicted: oily_cheek\n",
      "Actual: dry_forehead, Predicted: oily_nose\n",
      "Actual: dry_nose, Predicted: dry_nose\n"
     ]
    }
   ],
   "source": [
    "# 모델 평가\n",
    "loss, accuracy = model.evaluate(X_test, y_test)\n",
    "print(f'Test Loss: {loss}, Test Accuracy: {accuracy}')\n",
    "\n",
    "# 테스트 데이터에 대한 예측\n",
    "predictions = model.predict(X_test)\n",
    "\n",
    "# 예측 결과 출력\n",
    "for i in range(5):  # 예측 결과 중에서 처음 5개만 출력\n",
    "    predicted_class = label_encoder.classes_[np.argmax(predictions[i])]\n",
    "    actual_class = label_encoder.classes_[np.argmax(y_test[i])]\n",
    "    print(f'Actual: {actual_class}, Predicted: {predicted_class}')"
   ]
  },
  {
   "cell_type": "code",
   "execution_count": null,
   "id": "9367170e",
   "metadata": {},
   "outputs": [],
   "source": []
  }
 ],
 "metadata": {
  "kernelspec": {
   "display_name": "Python 3",
   "language": "python",
   "name": "python3"
  },
  "language_info": {
   "codemirror_mode": {
    "name": "ipython",
    "version": 3
   },
   "file_extension": ".py",
   "mimetype": "text/x-python",
   "name": "python",
   "nbconvert_exporter": "python",
   "pygments_lexer": "ipython3",
   "version": "3.8.8"
  }
 },
 "nbformat": 4,
 "nbformat_minor": 5
}
