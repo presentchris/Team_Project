{
 "cells": [
  {
   "cell_type": "code",
   "execution_count": 1,
   "id": "ad6a535a",
   "metadata": {},
   "outputs": [],
   "source": [
    "import os\n",
    "import cv2\n",
    "import numpy as np\n",
    "from sklearn.model_selection import train_test_split\n",
    "from sklearn.preprocessing import LabelEncoder\n",
    "from tensorflow.keras.utils import to_categorical\n",
    "from tensorflow.keras.models import Sequential\n",
    "from tensorflow.keras.layers import Conv2D, MaxPooling2D, Flatten, Dense\n",
    "\n",
    "# 데이터 경로 설정\n",
    "base_path = 'resized_skindata'  # 경로를 실제 Google Drive에 있는 skindata 폴더 경로로 변경하세요.\n",
    "\n",
    "# 얼굴 부위 및 피부 상태 설정\n",
    "face_parts = ['forehead', 'nose', 'cheek']\n",
    "skin_states = ['dry', 'oily']\n",
    "\n",
    "# 데이터 불러오기\n",
    "data = []\n",
    "labels = []\n",
    "\n",
    "for part in face_parts:\n",
    "    for state in skin_states:\n",
    "        folder_path = os.path.join(base_path, 'train', state, part)\n",
    "        for filename in os.listdir(folder_path):\n",
    "            img = cv2.imread(os.path.join(folder_path, filename))\n",
    "            img = cv2.cvtColor(img, cv2.COLOR_BGR2RGB)  # OpenCV는 BGR 형식이므로 RGB로 변환\n",
    "            img = cv2.resize(img, (128, 128))  # 이미지 크기 조절\n",
    "\n",
    "            data.append(img)\n",
    "            labels.append(f'{state}_{part}')\n",
    "\n",
    "# 데이터와 레이블을 numpy 배열로 변환\n",
    "data = np.array(data)\n",
    "labels = np.array(labels)\n",
    "\n",
    "# 레이블 인코딩\n",
    "label_encoder = LabelEncoder()\n",
    "encoded_labels = label_encoder.fit_transform(labels)\n",
    "encoded_labels = to_categorical(encoded_labels)\n",
    "\n",
    "# 데이터 분할 (8:2 비율)\n",
    "X_train, X_test, y_train, y_test = train_test_split(data, encoded_labels, test_size=0.2, random_state=42)\n"
   ]
  },
  {
   "cell_type": "code",
   "execution_count": 2,
   "id": "3bea2808",
   "metadata": {
    "scrolled": true
   },
   "outputs": [
    {
     "name": "stdout",
     "output_type": "stream",
     "text": [
      "Epoch 1/10\n",
      "15/15 [==============================] - 259s 17s/step - loss: 11.6597 - accuracy: 0.2092 - val_loss: 1.7903 - val_accuracy: 0.2500\n",
      "Epoch 2/10\n",
      "15/15 [==============================] - 230s 15s/step - loss: 1.7957 - accuracy: 0.2971 - val_loss: 1.7794 - val_accuracy: 0.2417\n",
      "Epoch 3/10\n",
      "15/15 [==============================] - 233s 16s/step - loss: 1.7449 - accuracy: 0.2992 - val_loss: 1.9013 - val_accuracy: 0.2417\n",
      "Epoch 4/10\n",
      "15/15 [==============================] - 228s 15s/step - loss: 1.7047 - accuracy: 0.3222 - val_loss: 1.7980 - val_accuracy: 0.2417\n",
      "Epoch 5/10\n",
      "15/15 [==============================] - 271s 18s/step - loss: 1.6786 - accuracy: 0.3243 - val_loss: 1.8382 - val_accuracy: 0.2417\n",
      "Epoch 6/10\n",
      "15/15 [==============================] - 284s 19s/step - loss: 1.6488 - accuracy: 0.3494 - val_loss: 1.7602 - val_accuracy: 0.2667\n",
      "Epoch 7/10\n",
      "15/15 [==============================] - 278s 19s/step - loss: 1.6247 - accuracy: 0.3556 - val_loss: 1.6989 - val_accuracy: 0.3083\n",
      "Epoch 8/10\n",
      "15/15 [==============================] - 313s 21s/step - loss: 1.5464 - accuracy: 0.3891 - val_loss: 1.6089 - val_accuracy: 0.3167\n",
      "Epoch 9/10\n",
      "15/15 [==============================] - 263s 17s/step - loss: 1.5086 - accuracy: 0.4079 - val_loss: 1.5916 - val_accuracy: 0.2917\n",
      "Epoch 10/10\n",
      "15/15 [==============================] - 261s 17s/step - loss: 1.4890 - accuracy: 0.4017 - val_loss: 1.5501 - val_accuracy: 0.3500\n"
     ]
    },
    {
     "data": {
      "text/plain": [
       "<tensorflow.python.keras.callbacks.History at 0x1ca8aeda2b0>"
      ]
     },
     "execution_count": 2,
     "metadata": {},
     "output_type": "execute_result"
    }
   ],
   "source": [
    "from tensorflow.keras.applications import VGG16\n",
    "from tensorflow.keras.models import Sequential\n",
    "from tensorflow.keras.layers import Dense, Flatten, Dropout\n",
    "\n",
    "base_model = VGG16(weights='imagenet', include_top=False, input_shape=(128,128, 3))\n",
    "\n",
    "model = Sequential()\n",
    "model.add(base_model)\n",
    "model.add(Flatten())\n",
    "model.add(Dense(512, activation='relu'))\n",
    "model.add(Dropout(0.5))\n",
    "model.add(Dense(len(label_encoder.classes_), activation='softmax'))\n",
    "\n",
    "model.compile(optimizer='adam', loss='categorical_crossentropy', metrics=['accuracy'])\n",
    "\n",
    "# 모델 학습\n",
    "model.fit(X_train, y_train, epochs=10, batch_size=32, validation_data=(X_test, y_test))"
   ]
  },
  {
   "cell_type": "code",
   "execution_count": null,
   "id": "c2e355ad",
   "metadata": {},
   "outputs": [
    {
     "name": "stdout",
     "output_type": "stream",
     "text": [
      "4/4 [==============================] - 17s 4s/step - loss: 1.5501 - accuracy: 0.3500\n",
      "Test Loss: 1.550102710723877, Test Accuracy: 0.3499999940395355\n"
     ]
    }
   ],
   "source": [
    "# 모델 평가\n",
    "loss, accuracy = model.evaluate(X_test, y_test)\n",
    "print(f'Test Loss: {loss}, Test Accuracy: {accuracy}')\n",
    "\n",
    "# 테스트 데이터에 대한 예측\n",
    "predictions = model.predict(X_test)\n",
    "\n",
    "# 예측 결과 출력\n",
    "for i in range(5):  # 예측 결과 중에서 처음 5개만 출력\n",
    "    predicted_class = label_encoder.classes_[np.argmax(predictions[i])]\n",
    "    actual_class = label_encoder.classes_[np.argmax(y_test[i])]\n",
    "    print(f'Actual: {actual_class}, Predicted: {predicted_class}')"
   ]
  },
  {
   "cell_type": "code",
   "execution_count": null,
   "id": "ecd92503",
   "metadata": {},
   "outputs": [],
   "source": []
  }
 ],
 "metadata": {
  "kernelspec": {
   "display_name": "Python 3",
   "language": "python",
   "name": "python3"
  },
  "language_info": {
   "codemirror_mode": {
    "name": "ipython",
    "version": 3
   },
   "file_extension": ".py",
   "mimetype": "text/x-python",
   "name": "python",
   "nbconvert_exporter": "python",
   "pygments_lexer": "ipython3",
   "version": "3.8.8"
  }
 },
 "nbformat": 4,
 "nbformat_minor": 5
}
