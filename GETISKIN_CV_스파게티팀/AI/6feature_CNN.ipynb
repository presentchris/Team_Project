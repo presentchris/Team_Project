{
 "cells": [
  {
   "cell_type": "code",
   "execution_count": 1,
   "id": "de5dc8f7",
   "metadata": {},
   "outputs": [],
   "source": [
    "import os\n",
    "import cv2\n",
    "import numpy as np\n",
    "from sklearn.model_selection import train_test_split\n",
    "from sklearn.preprocessing import LabelEncoder\n",
    "from tensorflow.keras.utils import to_categorical\n",
    "from tensorflow.keras.models import Sequential\n",
    "from tensorflow.keras.layers import Conv2D, MaxPooling2D, Flatten, Dense, Dropout"
   ]
  },
  {
   "cell_type": "code",
   "execution_count": 2,
   "id": "c74608e6",
   "metadata": {},
   "outputs": [],
   "source": [
    "# 데이터 경로 설정\n",
    "base_path = 'resized_feature'  # 경로를 실제 Google Drive에 있는 skindata 폴더 경로로 변경하세요.\n",
    "\n",
    "# 얼굴 부위 및 피부 상태 설정\n",
    "face_parts = ['forehead', 'nose', 'cheek']\n",
    "\n",
    "# 데이터 불러오기\n",
    "data = []\n",
    "labels = []\n",
    "\n",
    "for part in face_parts:\n",
    "    folder_path = os.path.join(base_path, 'resized_train', part)\n",
    "        \n",
    "    for filename in os.listdir(folder_path):\n",
    "        img_path = os.path.join(folder_path, filename)\n",
    "\n",
    "        # Additional check to skip empty images\n",
    "        if os.path.isfile(img_path):\n",
    "            img = cv2.imread(img_path)\n",
    "\n",
    "            if img is not None:\n",
    "                img = cv2.cvtColor(img, cv2.COLOR_BGR2RGB)\n",
    "                img = cv2.resize(img, (128, 128))\n",
    "\n",
    "                data.append(img)\n",
    "                labels.append(f'{part}') \n",
    "            else:\n",
    "                print(f\"Warning: Unable to read the image at {img_path}\")\n",
    "\n",
    "# 데이터와 레이블을 numpy 배열로 변환\n",
    "data = np.array(data)\n",
    "labels = np.array(labels)\n",
    "\n",
    "# 레이블 인코딩\n",
    "label_encoder = LabelEncoder()\n",
    "encoded_labels = label_encoder.fit_transform(labels)\n",
    "\n",
    "# Check if the arrays are not empty\n",
    "if data.shape[0] > 0 and encoded_labels.size > 0:\n",
    "    # 레이블 인코딩\n",
    "    encoded_labels = to_categorical(encoded_labels)\n",
    "\n",
    "    # 데이터 분할 (8:2 비율)\n",
    "    X_train, X_test, y_train, y_test = train_test_split(data, encoded_labels, test_size=0.2, random_state=42)\n",
    "else:\n",
    "    print(\"Error: No data or labels to split.\")\n"
   ]
  },
  {
   "cell_type": "code",
   "execution_count": 3,
   "id": "df233dd3",
   "metadata": {},
   "outputs": [],
   "source": [
    "model = Sequential()\n",
    "model.add(Conv2D(32, (3, 3), activation='relu', input_shape=(128,128,3)))\n",
    "model.add(MaxPooling2D((2, 2)))\n",
    "model.add(Conv2D(64, (3, 3), activation='relu'))\n",
    "model.add(MaxPooling2D((2, 2)))\n",
    "model.add(Conv2D(128, (3, 3), activation='relu'))\n",
    "model.add(MaxPooling2D((2, 2)))\n",
    "model.add(Flatten())\n",
    "model.add(Dense(512, activation='relu'))\n",
    "model.add(Dropout(0.5))\n",
    "model.add(Dense(len(label_encoder.classes_), activation='softmax'))\n",
    "\n",
    "model.compile(optimizer='adam', loss='categorical_crossentropy', metrics=['accuracy'])\n"
   ]
  },
  {
   "cell_type": "code",
   "execution_count": 4,
   "id": "a21452c8",
   "metadata": {},
   "outputs": [
    {
     "name": "stdout",
     "output_type": "stream",
     "text": [
      "Epoch 1/10\n",
      "9/9 [==============================] - 36s 3s/step - loss: 111.9330 - accuracy: 0.3663 - val_loss: 1.2975 - val_accuracy: 0.4097\n",
      "Epoch 2/10\n",
      "9/9 [==============================] - 28s 3s/step - loss: 0.9236 - accuracy: 0.6580 - val_loss: 0.6722 - val_accuracy: 0.7431\n",
      "Epoch 3/10\n",
      "9/9 [==============================] - 23s 3s/step - loss: 0.5526 - accuracy: 0.8247 - val_loss: 0.6895 - val_accuracy: 0.7708\n",
      "Epoch 4/10\n",
      "9/9 [==============================] - 18s 2s/step - loss: 0.4600 - accuracy: 0.8333 - val_loss: 1.3128 - val_accuracy: 0.6875\n",
      "Epoch 5/10\n",
      "9/9 [==============================] - 20s 2s/step - loss: 0.5152 - accuracy: 0.8229 - val_loss: 0.5164 - val_accuracy: 0.7778\n",
      "Epoch 6/10\n",
      "9/9 [==============================] - 19s 2s/step - loss: 0.4040 - accuracy: 0.8333 - val_loss: 0.7724 - val_accuracy: 0.7847\n",
      "Epoch 7/10\n",
      "9/9 [==============================] - 18s 2s/step - loss: 0.4010 - accuracy: 0.8507 - val_loss: 0.5521 - val_accuracy: 0.8056\n",
      "Epoch 8/10\n",
      "9/9 [==============================] - 22s 3s/step - loss: 0.3335 - accuracy: 0.8733 - val_loss: 0.6056 - val_accuracy: 0.8264\n",
      "Epoch 9/10\n",
      "9/9 [==============================] - 17s 2s/step - loss: 0.2908 - accuracy: 0.9045 - val_loss: 0.6692 - val_accuracy: 0.7917\n",
      "Epoch 10/10\n",
      "9/9 [==============================] - 20s 2s/step - loss: 0.2377 - accuracy: 0.9201 - val_loss: 0.6096 - val_accuracy: 0.8194\n"
     ]
    },
    {
     "data": {
      "text/plain": [
       "<tensorflow.python.keras.callbacks.History at 0x2730bf7cbe0>"
      ]
     },
     "execution_count": 4,
     "metadata": {},
     "output_type": "execute_result"
    }
   ],
   "source": [
    "# 모델 학습\n",
    "model.fit(X_train, y_train, epochs=10, batch_size=64, validation_data=(X_test, y_test))"
   ]
  },
  {
   "cell_type": "code",
   "execution_count": 5,
   "id": "ae5060b9",
   "metadata": {},
   "outputs": [
    {
     "name": "stdout",
     "output_type": "stream",
     "text": [
      "5/5 [==============================] - 2s 288ms/step - loss: 0.6096 - accuracy: 0.8194\n",
      "Test Loss: 0.6095917224884033, Test Accuracy: 0.8194444179534912\n",
      "Actual: nose, Predicted: forehead\n",
      "Actual: nose, Predicted: nose\n",
      "Actual: forehead, Predicted: forehead\n",
      "Actual: forehead, Predicted: forehead\n",
      "Actual: nose, Predicted: nose\n"
     ]
    }
   ],
   "source": [
    "# 모델 평가\n",
    "loss, accuracy = model.evaluate(X_test, y_test)\n",
    "print(f'Test Loss: {loss}, Test Accuracy: {accuracy}')\n",
    "\n",
    "# 테스트 데이터에 대한 예측\n",
    "predictions = model.predict(X_test)\n",
    "\n",
    "# 예측 결과 출력\n",
    "for i in range(5):  # 예측 결과 중에서 처음 5개만 출력\n",
    "    predicted_class = label_encoder.classes_[np.argmax(predictions[i])]\n",
    "    actual_class = label_encoder.classes_[np.argmax(y_test[i])]\n",
    "    print(f'Actual: {actual_class}, Predicted: {predicted_class}')"
   ]
  },
  {
   "cell_type": "code",
   "execution_count": null,
   "id": "909c5ab0",
   "metadata": {},
   "outputs": [],
   "source": []
  }
 ],
 "metadata": {
  "kernelspec": {
   "display_name": "Python 3",
   "language": "python",
   "name": "python3"
  },
  "language_info": {
   "codemirror_mode": {
    "name": "ipython",
    "version": 3
   },
   "file_extension": ".py",
   "mimetype": "text/x-python",
   "name": "python",
   "nbconvert_exporter": "python",
   "pygments_lexer": "ipython3",
   "version": "3.8.8"
  }
 },
 "nbformat": 4,
 "nbformat_minor": 5
}
